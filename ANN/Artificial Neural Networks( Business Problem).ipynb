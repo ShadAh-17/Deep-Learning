{
 "cells": [
  {
   "cell_type": "markdown",
   "metadata": {},
   "source": [
    "# Data Preprocessing"
   ]
  },
  {
   "cell_type": "code",
   "execution_count": 1,
   "metadata": {},
   "outputs": [],
   "source": [
    "# Importing the libraries\n",
    "import numpy as np\n",
    "import matplotlib.pyplot as plt\n",
    "import pandas as pd"
   ]
  },
  {
   "cell_type": "code",
   "execution_count": 2,
   "metadata": {},
   "outputs": [],
   "source": [
    "# Importing the dataset\n",
    "dataset = pd.read_csv('Churn_Modelling.csv')\n",
    "X = dataset.iloc[:, 3:13].values\n",
    "y = dataset.iloc[:, 13].values"
   ]
  },
  {
   "cell_type": "code",
   "execution_count": 3,
   "metadata": {},
   "outputs": [
    {
     "name": "stderr",
     "output_type": "stream",
     "text": [
      "C:\\Users\\SHADAAB\\AppData\\Local\\conda\\conda\\envs\\hello-tf\\lib\\site-packages\\sklearn\\preprocessing\\_encoders.py:371: FutureWarning: The handling of integer data will change in version 0.22. Currently, the categories are determined based on the range [0, max(values)], while in the future they will be determined based on the unique values.\n",
      "If you want the future behaviour and silence this warning, you can specify \"categories='auto'\".\n",
      "In case you used a LabelEncoder before this OneHotEncoder to convert the categories to integers, then you can now use the OneHotEncoder directly.\n",
      "  warnings.warn(msg, FutureWarning)\n",
      "C:\\Users\\SHADAAB\\AppData\\Local\\conda\\conda\\envs\\hello-tf\\lib\\site-packages\\sklearn\\preprocessing\\_encoders.py:392: DeprecationWarning: The 'categorical_features' keyword is deprecated in version 0.20 and will be removed in 0.22. You can use the ColumnTransformer instead.\n",
      "  \"use the ColumnTransformer instead.\", DeprecationWarning)\n"
     ]
    }
   ],
   "source": [
    "# Encoding categorical data\n",
    "# Encoding the Independent Variable\n",
    "from sklearn.preprocessing import LabelEncoder, OneHotEncoder\n",
    "labelencoder_X_1 = LabelEncoder()\n",
    "X[:, 1] = labelencoder_X_1.fit_transform(X[:, 1])\n",
    "labelencoder_X_2 = LabelEncoder()\n",
    "X[:, 2] = labelencoder_X_2.fit_transform(X[:, 2])\n",
    "onehotencoder = OneHotEncoder(categorical_features = [1])\n",
    "X = onehotencoder.fit_transform(X).toarray()\n",
    "X = X[:, 1:]"
   ]
  },
  {
   "cell_type": "code",
   "execution_count": null,
   "metadata": {},
   "outputs": [],
   "source": [
    "#But now we will remove one dummy variable here to avoid falling into the dummy variable trap."
   ]
  },
  {
   "cell_type": "code",
   "execution_count": 4,
   "metadata": {},
   "outputs": [],
   "source": [
    "# Splitting the dataset into the Training set and Test set\n",
    "from sklearn.model_selection import train_test_split\n",
    "X_train, X_test, y_train, y_test = train_test_split(X, y, test_size = 0.2, random_state = 0)\n"
   ]
  },
  {
   "cell_type": "code",
   "execution_count": 5,
   "metadata": {},
   "outputs": [],
   "source": [
    "# Feature Scaling\n",
    "from sklearn.preprocessing import StandardScaler\n",
    "sc = StandardScaler()\n",
    "X_train = sc.fit_transform(X_train)\n",
    "X_test = sc.transform(X_test)"
   ]
  },
  {
   "cell_type": "markdown",
   "metadata": {},
   "source": [
    "# ANN"
   ]
  },
  {
   "cell_type": "code",
   "execution_count": 6,
   "metadata": {},
   "outputs": [
    {
     "name": "stderr",
     "output_type": "stream",
     "text": [
      "Using TensorFlow backend.\n"
     ]
    }
   ],
   "source": [
    "# Importing the Keras libraries and packages\n",
    "import keras\n",
    "from keras.models import Sequential\n",
    "from keras.layers import Dense"
   ]
  },
  {
   "cell_type": "code",
   "execution_count": 7,
   "metadata": {},
   "outputs": [],
   "source": [
    "# Initialising the ANN\n",
    "classifier = Sequential()"
   ]
  },
  {
   "cell_type": "code",
   "execution_count": 8,
   "metadata": {},
   "outputs": [
    {
     "name": "stdout",
     "output_type": "stream",
     "text": [
      "WARNING:tensorflow:From C:\\Users\\SHADAAB\\AppData\\Local\\conda\\conda\\envs\\hello-tf\\lib\\site-packages\\tensorflow\\python\\framework\\op_def_library.py:263: colocate_with (from tensorflow.python.framework.ops) is deprecated and will be removed in a future version.\n",
      "Instructions for updating:\n",
      "Colocations handled automatically by placer.\n"
     ]
    }
   ],
   "source": [
    "# Adding the input layer and the first hidden layer\n",
    "classifier.add(Dense(units = 6, kernel_initializer = 'uniform', activation = 'relu', input_dim = 11))\n",
    "#relu=rectifier transfer function     \n",
    "#units=no. of hidden layer. input+output/2.  11+1/2=6"
   ]
  },
  {
   "cell_type": "code",
   "execution_count": 9,
   "metadata": {},
   "outputs": [],
   "source": [
    "# Adding the second hidden layer\n",
    "classifier.add(Dense(units = 6, kernel_initializer = 'uniform', activation = 'relu'))"
   ]
  },
  {
   "cell_type": "code",
   "execution_count": 10,
   "metadata": {},
   "outputs": [],
   "source": [
    "# Adding the output layer\n",
    "classifier.add(Dense(units = 1, kernel_initializer = 'uniform', activation = 'sigmoid'))\n",
    "#unit= 3 if you have 3 categories for dependent variable\n",
    "#activation= 'softmax' softmax is actually the sigmoid function, but applied to a dependent variable that has more than two\n",
    "#categories\n",
    "\n",
    "# But here, we have two categories, two classes, so we are fine with the sigmoid function"
   ]
  },
  {
   "cell_type": "code",
   "execution_count": null,
   "metadata": {},
   "outputs": [],
   "source": [
    "# We are done adding the layers of our artificial neural network, and now what we're gonna do is to compile the whole \n",
    "# artificial neural network, that is basically applying stochastic gradient descent on the whole artificial neural network.\n",
    "# That's what compiling means."
   ]
  },
  {
   "cell_type": "code",
   "execution_count": 11,
   "metadata": {},
   "outputs": [],
   "source": [
    "# Compiling the ANN\n",
    "classifier.compile(optimizer = 'adam', loss = 'binary_crossentropy', metrics = ['accuracy'])"
   ]
  },
  {
   "cell_type": "code",
   "execution_count": 12,
   "metadata": {},
   "outputs": [
    {
     "name": "stdout",
     "output_type": "stream",
     "text": [
      "WARNING:tensorflow:From C:\\Users\\SHADAAB\\AppData\\Local\\conda\\conda\\envs\\hello-tf\\lib\\site-packages\\tensorflow\\python\\ops\\math_ops.py:3066: to_int32 (from tensorflow.python.ops.math_ops) is deprecated and will be removed in a future version.\n",
      "Instructions for updating:\n",
      "Use tf.cast instead.\n",
      "Epoch 1/100\n",
      "8000/8000 [==============================] - 6s 736us/step - loss: 0.4788 - acc: 0.7960\n",
      "Epoch 2/100\n",
      "8000/8000 [==============================] - 2s 220us/step - loss: 0.4263 - acc: 0.7960\n",
      "Epoch 3/100\n",
      "8000/8000 [==============================] - 2s 208us/step - loss: 0.4204 - acc: 0.8079\n",
      "Epoch 4/100\n",
      "8000/8000 [==============================] - 2s 205us/step - loss: 0.4173 - acc: 0.8241\n",
      "Epoch 5/100\n",
      "8000/8000 [==============================] - 2s 207us/step - loss: 0.4158 - acc: 0.8290\n",
      "Epoch 6/100\n",
      "8000/8000 [==============================] - 2s 220us/step - loss: 0.4136 - acc: 0.8311\n",
      "Epoch 7/100\n",
      "8000/8000 [==============================] - 2s 248us/step - loss: 0.4128 - acc: 0.8316\n",
      "Epoch 8/100\n",
      "8000/8000 [==============================] - 2s 220us/step - loss: 0.4115 - acc: 0.8320\n",
      "Epoch 9/100\n",
      "8000/8000 [==============================] - 2s 220us/step - loss: 0.4106 - acc: 0.8322\n",
      "Epoch 10/100\n",
      "8000/8000 [==============================] - 2s 233us/step - loss: 0.4098 - acc: 0.8325\n",
      "Epoch 11/100\n",
      "8000/8000 [==============================] - 1s 186us/step - loss: 0.4089 - acc: 0.8334\n",
      "Epoch 12/100\n",
      "8000/8000 [==============================] - 1s 187us/step - loss: 0.4082 - acc: 0.8337\n",
      "Epoch 13/100\n",
      "8000/8000 [==============================] - 2s 194us/step - loss: 0.4077 - acc: 0.8331\n",
      "Epoch 14/100\n",
      "8000/8000 [==============================] - 2s 205us/step - loss: 0.4072 - acc: 0.8347\n",
      "Epoch 15/100\n",
      "8000/8000 [==============================] - 2s 193us/step - loss: 0.4067 - acc: 0.8341\n",
      "Epoch 16/100\n",
      "8000/8000 [==============================] - 2s 209us/step - loss: 0.4062 - acc: 0.8351 0s - loss: 0.4030 - ac\n",
      "Epoch 17/100\n",
      "8000/8000 [==============================] - 2s 203us/step - loss: 0.4059 - acc: 0.8369\n",
      "Epoch 18/100\n",
      "8000/8000 [==============================] - 2s 221us/step - loss: 0.4054 - acc: 0.8350\n",
      "Epoch 19/100\n",
      "8000/8000 [==============================] - 2s 268us/step - loss: 0.4048 - acc: 0.8351\n",
      "Epoch 20/100\n",
      "8000/8000 [==============================] - 2s 231us/step - loss: 0.4047 - acc: 0.8339\n",
      "Epoch 21/100\n",
      "8000/8000 [==============================] - 2s 265us/step - loss: 0.4044 - acc: 0.8351\n",
      "Epoch 22/100\n",
      "8000/8000 [==============================] - 2s 273us/step - loss: 0.4041 - acc: 0.8339\n",
      "Epoch 23/100\n",
      "8000/8000 [==============================] - 2s 254us/step - loss: 0.4043 - acc: 0.8370\n",
      "Epoch 24/100\n",
      "8000/8000 [==============================] - 2s 282us/step - loss: 0.4035 - acc: 0.8331\n",
      "Epoch 25/100\n",
      "8000/8000 [==============================] - 2s 232us/step - loss: 0.4037 - acc: 0.8361\n",
      "Epoch 26/100\n",
      "8000/8000 [==============================] - 2s 229us/step - loss: 0.4037 - acc: 0.8342\n",
      "Epoch 27/100\n",
      "8000/8000 [==============================] - 2s 231us/step - loss: 0.4031 - acc: 0.8355\n",
      "Epoch 28/100\n",
      "8000/8000 [==============================] - 2s 231us/step - loss: 0.4030 - acc: 0.8350\n",
      "Epoch 29/100\n",
      "8000/8000 [==============================] - 2s 206us/step - loss: 0.4029 - acc: 0.8367\n",
      "Epoch 30/100\n",
      "8000/8000 [==============================] - 2s 205us/step - loss: 0.4032 - acc: 0.8347\n",
      "Epoch 31/100\n",
      "8000/8000 [==============================] - 2s 206us/step - loss: 0.4026 - acc: 0.8354\n",
      "Epoch 32/100\n",
      "8000/8000 [==============================] - 2s 206us/step - loss: 0.4027 - acc: 0.8349\n",
      "Epoch 33/100\n",
      "8000/8000 [==============================] - 2s 203us/step - loss: 0.4025 - acc: 0.8365\n",
      "Epoch 34/100\n",
      "8000/8000 [==============================] - 2s 206us/step - loss: 0.4023 - acc: 0.8355\n",
      "Epoch 35/100\n",
      "8000/8000 [==============================] - 2s 207us/step - loss: 0.4018 - acc: 0.8357\n",
      "Epoch 36/100\n",
      "8000/8000 [==============================] - 2s 216us/step - loss: 0.4017 - acc: 0.8366\n",
      "Epoch 37/100\n",
      "8000/8000 [==============================] - 2s 202us/step - loss: 0.4019 - acc: 0.8351\n",
      "Epoch 38/100\n",
      "8000/8000 [==============================] - 2s 210us/step - loss: 0.4019 - acc: 0.8365\n",
      "Epoch 39/100\n",
      "8000/8000 [==============================] - 2s 205us/step - loss: 0.4016 - acc: 0.8339\n",
      "Epoch 40/100\n",
      "8000/8000 [==============================] - 2s 202us/step - loss: 0.4019 - acc: 0.8340\n",
      "Epoch 41/100\n",
      "8000/8000 [==============================] - 2s 201us/step - loss: 0.4015 - acc: 0.8356\n",
      "Epoch 42/100\n",
      "8000/8000 [==============================] - 2s 210us/step - loss: 0.4016 - acc: 0.8346\n",
      "Epoch 43/100\n",
      "8000/8000 [==============================] - 2s 201us/step - loss: 0.4015 - acc: 0.8356\n",
      "Epoch 44/100\n",
      "8000/8000 [==============================] - 2s 208us/step - loss: 0.4012 - acc: 0.8349\n",
      "Epoch 45/100\n",
      "8000/8000 [==============================] - 2s 205us/step - loss: 0.4015 - acc: 0.8359\n",
      "Epoch 46/100\n",
      "8000/8000 [==============================] - 2s 203us/step - loss: 0.4016 - acc: 0.8350\n",
      "Epoch 47/100\n",
      "8000/8000 [==============================] - 2s 202us/step - loss: 0.4009 - acc: 0.8364\n",
      "Epoch 48/100\n",
      "8000/8000 [==============================] - 2s 208us/step - loss: 0.4010 - acc: 0.8352\n",
      "Epoch 49/100\n",
      "8000/8000 [==============================] - 2s 200us/step - loss: 0.4011 - acc: 0.8370\n",
      "Epoch 50/100\n",
      "8000/8000 [==============================] - 2s 206us/step - loss: 0.4009 - acc: 0.8345\n",
      "Epoch 51/100\n",
      "8000/8000 [==============================] - 2s 205us/step - loss: 0.4010 - acc: 0.8369\n",
      "Epoch 52/100\n",
      "8000/8000 [==============================] - 2s 204us/step - loss: 0.4010 - acc: 0.8366\n",
      "Epoch 53/100\n",
      "8000/8000 [==============================] - 2s 203us/step - loss: 0.4005 - acc: 0.8355\n",
      "Epoch 54/100\n",
      "8000/8000 [==============================] - 2s 201us/step - loss: 0.4008 - acc: 0.8352\n",
      "Epoch 55/100\n",
      "8000/8000 [==============================] - 2s 200us/step - loss: 0.4011 - acc: 0.8349\n",
      "Epoch 56/100\n",
      "8000/8000 [==============================] - 2s 201us/step - loss: 0.4005 - acc: 0.8347\n",
      "Epoch 57/100\n",
      "8000/8000 [==============================] - 2s 209us/step - loss: 0.4006 - acc: 0.8355\n",
      "Epoch 58/100\n",
      "8000/8000 [==============================] - 2s 200us/step - loss: 0.4004 - acc: 0.8360\n",
      "Epoch 59/100\n",
      "8000/8000 [==============================] - 2s 200us/step - loss: 0.4006 - acc: 0.8346\n",
      "Epoch 60/100\n",
      "8000/8000 [==============================] - 2s 201us/step - loss: 0.4006 - acc: 0.8359\n",
      "Epoch 61/100\n",
      "8000/8000 [==============================] - 2s 201us/step - loss: 0.4009 - acc: 0.8372\n",
      "Epoch 62/100\n",
      "8000/8000 [==============================] - 2s 207us/step - loss: 0.4001 - acc: 0.8355\n",
      "Epoch 63/100\n",
      "8000/8000 [==============================] - 2s 206us/step - loss: 0.4009 - acc: 0.8362\n",
      "Epoch 64/100\n",
      "8000/8000 [==============================] - 2s 204us/step - loss: 0.4004 - acc: 0.8362\n",
      "Epoch 65/100\n",
      "8000/8000 [==============================] - 2s 202us/step - loss: 0.4007 - acc: 0.8351\n",
      "Epoch 66/100\n",
      "8000/8000 [==============================] - 2s 201us/step - loss: 0.4001 - acc: 0.8347\n",
      "Epoch 67/100\n",
      "8000/8000 [==============================] - 2s 214us/step - loss: 0.4002 - acc: 0.8342\n",
      "Epoch 68/100\n",
      "8000/8000 [==============================] - 2s 206us/step - loss: 0.4006 - acc: 0.8362\n",
      "Epoch 69/100\n",
      "8000/8000 [==============================] - 2s 225us/step - loss: 0.4005 - acc: 0.8342\n",
      "Epoch 70/100\n",
      "8000/8000 [==============================] - 2s 230us/step - loss: 0.4001 - acc: 0.8361\n",
      "Epoch 71/100\n",
      "8000/8000 [==============================] - 2s 211us/step - loss: 0.3997 - acc: 0.8355\n",
      "Epoch 72/100\n",
      "8000/8000 [==============================] - 2s 204us/step - loss: 0.4006 - acc: 0.8335\n",
      "Epoch 73/100\n",
      "8000/8000 [==============================] - 2s 205us/step - loss: 0.4004 - acc: 0.8362\n",
      "Epoch 74/100\n",
      "8000/8000 [==============================] - 2s 217us/step - loss: 0.4001 - acc: 0.8355\n",
      "Epoch 75/100\n",
      "8000/8000 [==============================] - 2s 209us/step - loss: 0.4003 - acc: 0.8346\n",
      "Epoch 76/100\n",
      "8000/8000 [==============================] - 2s 209us/step - loss: 0.4002 - acc: 0.8372\n",
      "Epoch 77/100\n",
      "8000/8000 [==============================] - 2s 209us/step - loss: 0.4002 - acc: 0.8350\n",
      "Epoch 78/100\n",
      "8000/8000 [==============================] - 2s 203us/step - loss: 0.3996 - acc: 0.8352\n",
      "Epoch 79/100\n"
     ]
    },
    {
     "name": "stdout",
     "output_type": "stream",
     "text": [
      "8000/8000 [==============================] - 2s 206us/step - loss: 0.4003 - acc: 0.8355\n",
      "Epoch 80/100\n",
      "8000/8000 [==============================] - 2s 201us/step - loss: 0.4001 - acc: 0.8362\n",
      "Epoch 81/100\n",
      "8000/8000 [==============================] - 2s 209us/step - loss: 0.4002 - acc: 0.8372\n",
      "Epoch 82/100\n",
      "8000/8000 [==============================] - 2s 205us/step - loss: 0.3995 - acc: 0.8360\n",
      "Epoch 83/100\n",
      "8000/8000 [==============================] - 2s 203us/step - loss: 0.4001 - acc: 0.8347\n",
      "Epoch 84/100\n",
      "8000/8000 [==============================] - 2s 201us/step - loss: 0.3999 - acc: 0.8360\n",
      "Epoch 85/100\n",
      "8000/8000 [==============================] - 2s 207us/step - loss: 0.3999 - acc: 0.8344\n",
      "Epoch 86/100\n",
      "8000/8000 [==============================] - 2s 202us/step - loss: 0.3997 - acc: 0.8347\n",
      "Epoch 87/100\n",
      "8000/8000 [==============================] - 2s 202us/step - loss: 0.3998 - acc: 0.8346\n",
      "Epoch 88/100\n",
      "8000/8000 [==============================] - 2s 207us/step - loss: 0.4002 - acc: 0.8354\n",
      "Epoch 89/100\n",
      "8000/8000 [==============================] - 2s 207us/step - loss: 0.3996 - acc: 0.8365\n",
      "Epoch 90/100\n",
      "8000/8000 [==============================] - 2s 210us/step - loss: 0.3994 - acc: 0.8349\n",
      "Epoch 91/100\n",
      "8000/8000 [==============================] - 2s 204us/step - loss: 0.3993 - acc: 0.8359\n",
      "Epoch 92/100\n",
      "8000/8000 [==============================] - 2s 203us/step - loss: 0.3997 - acc: 0.8342\n",
      "Epoch 93/100\n",
      "8000/8000 [==============================] - 2s 202us/step - loss: 0.3995 - acc: 0.8346\n",
      "Epoch 94/100\n",
      "8000/8000 [==============================] - 2s 203us/step - loss: 0.4001 - acc: 0.8346\n",
      "Epoch 95/100\n",
      "8000/8000 [==============================] - 2s 198us/step - loss: 0.3991 - acc: 0.8355\n",
      "Epoch 96/100\n",
      "8000/8000 [==============================] - 2s 197us/step - loss: 0.4002 - acc: 0.8352\n",
      "Epoch 97/100\n",
      "8000/8000 [==============================] - 2s 203us/step - loss: 0.3994 - acc: 0.8350\n",
      "Epoch 98/100\n",
      "8000/8000 [==============================] - 2s 209us/step - loss: 0.3994 - acc: 0.8352\n",
      "Epoch 99/100\n",
      "8000/8000 [==============================] - 2s 200us/step - loss: 0.3996 - acc: 0.8354\n",
      "Epoch 100/100\n",
      "8000/8000 [==============================] - 2s 226us/step - loss: 0.3996 - acc: 0.8352\n"
     ]
    },
    {
     "data": {
      "text/plain": [
       "<keras.callbacks.History at 0x1926f6b6198>"
      ]
     },
     "execution_count": 12,
     "metadata": {},
     "output_type": "execute_result"
    }
   ],
   "source": [
    "# Fitting the ANN to the Training set\n",
    "classifier.fit(X_train, y_train, batch_size = 10, epochs = 100)"
   ]
  },
  {
   "cell_type": "markdown",
   "metadata": {},
   "source": [
    "# Making predictions and evaluating the model\n"
   ]
  },
  {
   "cell_type": "code",
   "execution_count": 13,
   "metadata": {},
   "outputs": [],
   "source": [
    "# Predicting the Test set results\n",
    "y_pred = classifier.predict(X_test)\n",
    "y_pred = (y_pred > 0.5)"
   ]
  },
  {
   "cell_type": "code",
   "execution_count": 14,
   "metadata": {},
   "outputs": [
    {
     "name": "stdout",
     "output_type": "stream",
     "text": [
      "[[1539   56]\n",
      " [ 259  146]]\n",
      "\n",
      "\n",
      "              precision    recall  f1-score   support\n",
      "\n",
      "           0       0.86      0.96      0.91      1595\n",
      "           1       0.72      0.36      0.48       405\n",
      "\n",
      "   micro avg       0.84      0.84      0.84      2000\n",
      "   macro avg       0.79      0.66      0.69      2000\n",
      "weighted avg       0.83      0.84      0.82      2000\n",
      "\n"
     ]
    }
   ],
   "source": [
    "# Making the Confusion Matrix and classification report\n",
    "from sklearn.metrics import confusion_matrix, classification_report\n",
    "print(confusion_matrix(y_test, y_pred))\n",
    "print('\\n')\n",
    "print(classification_report(y_test,y_pred))"
   ]
  },
  {
   "cell_type": "code",
   "execution_count": 15,
   "metadata": {},
   "outputs": [],
   "source": [
    "# The accuracy is the number of correct predictions divided by the total number of predictions\n",
    "# here correct predictions- 1539,146"
   ]
  },
  {
   "cell_type": "code",
   "execution_count": 16,
   "metadata": {},
   "outputs": [
    {
     "data": {
      "text/plain": [
       "0.8425"
      ]
     },
     "execution_count": 16,
     "metadata": {},
     "output_type": "execute_result"
    }
   ],
   "source": [
    "(1539+146)/2000"
   ]
  },
  {
   "cell_type": "markdown",
   "metadata": {},
   "source": [
    "# Accuracy of our model is 84.5%"
   ]
  },
  {
   "cell_type": "markdown",
   "metadata": {},
   "source": [
    "#So, eventually, we can validate our model, and now the bank can use it to make a ranking of their customers, \n",
    "ranked by their probability to leave the bank, from the customer that has the highest probability to leave the bank,\n",
    "down to the customer that has the lowest probability to leave the bank."
   ]
  }
 ],
 "metadata": {
  "kernelspec": {
   "display_name": "Python 3",
   "language": "python",
   "name": "python3"
  },
  "language_info": {
   "codemirror_mode": {
    "name": "ipython",
    "version": 3
   },
   "file_extension": ".py",
   "mimetype": "text/x-python",
   "name": "python",
   "nbconvert_exporter": "python",
   "pygments_lexer": "ipython3",
   "version": "3.6.8"
  }
 },
 "nbformat": 4,
 "nbformat_minor": 2
}
