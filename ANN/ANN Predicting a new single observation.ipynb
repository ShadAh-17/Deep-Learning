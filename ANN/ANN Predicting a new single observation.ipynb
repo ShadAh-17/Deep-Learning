{
 "cells": [
  {
   "cell_type": "markdown",
   "metadata": {},
   "source": [
    "# Data Preprocessing"
   ]
  },
  {
   "cell_type": "code",
   "execution_count": 40,
   "metadata": {},
   "outputs": [],
   "source": [
    "# Importing the libraries\n",
    "import numpy as np\n",
    "import matplotlib.pyplot as plt\n",
    "import pandas as pd"
   ]
  },
  {
   "cell_type": "code",
   "execution_count": 41,
   "metadata": {},
   "outputs": [],
   "source": [
    "# Importing the dataset\n",
    "dataset = pd.read_csv('Churn_Modelling.csv')\n",
    "X = dataset.iloc[:, 3:13].values\n",
    "y = dataset.iloc[:, 13].values"
   ]
  },
  {
   "cell_type": "code",
   "execution_count": 42,
   "metadata": {},
   "outputs": [
    {
     "name": "stderr",
     "output_type": "stream",
     "text": [
      "C:\\Users\\SHADAAB\\AppData\\Local\\conda\\conda\\envs\\hello-tf\\lib\\site-packages\\sklearn\\preprocessing\\_encoders.py:371: FutureWarning: The handling of integer data will change in version 0.22. Currently, the categories are determined based on the range [0, max(values)], while in the future they will be determined based on the unique values.\n",
      "If you want the future behaviour and silence this warning, you can specify \"categories='auto'\".\n",
      "In case you used a LabelEncoder before this OneHotEncoder to convert the categories to integers, then you can now use the OneHotEncoder directly.\n",
      "  warnings.warn(msg, FutureWarning)\n",
      "C:\\Users\\SHADAAB\\AppData\\Local\\conda\\conda\\envs\\hello-tf\\lib\\site-packages\\sklearn\\preprocessing\\_encoders.py:392: DeprecationWarning: The 'categorical_features' keyword is deprecated in version 0.20 and will be removed in 0.22. You can use the ColumnTransformer instead.\n",
      "  \"use the ColumnTransformer instead.\", DeprecationWarning)\n"
     ]
    }
   ],
   "source": [
    "# Encoding categorical data\n",
    "# Encoding the Independent Variable\n",
    "from sklearn.preprocessing import LabelEncoder, OneHotEncoder\n",
    "labelencoder_X_1 = LabelEncoder()\n",
    "X[:, 1] = labelencoder_X_1.fit_transform(X[:, 1])\n",
    "labelencoder_X_2 = LabelEncoder()\n",
    "X[:, 2] = labelencoder_X_2.fit_transform(X[:, 2])\n",
    "onehotencoder = OneHotEncoder(categorical_features = [1])\n",
    "X = onehotencoder.fit_transform(X).toarray()\n",
    "X = X[:, 1:]"
   ]
  },
  {
   "cell_type": "code",
   "execution_count": 43,
   "metadata": {},
   "outputs": [],
   "source": [
    "#But now we will remove one dummy variable here to avoid falling into the dummy variable trap."
   ]
  },
  {
   "cell_type": "code",
   "execution_count": 44,
   "metadata": {},
   "outputs": [],
   "source": [
    "# Splitting the dataset into the Training set and Test set\n",
    "from sklearn.model_selection import train_test_split\n",
    "X_train, X_test, y_train, y_test = train_test_split(X, y, test_size = 0.2, random_state = 0)\n"
   ]
  },
  {
   "cell_type": "code",
   "execution_count": 45,
   "metadata": {},
   "outputs": [],
   "source": [
    "# Feature Scaling\n",
    "from sklearn.preprocessing import StandardScaler\n",
    "sc = StandardScaler()\n",
    "X_train = sc.fit_transform(X_train)\n",
    "X_test = sc.transform(X_test)"
   ]
  },
  {
   "cell_type": "markdown",
   "metadata": {},
   "source": [
    "# ANN"
   ]
  },
  {
   "cell_type": "code",
   "execution_count": 46,
   "metadata": {},
   "outputs": [],
   "source": [
    "# Importing the Keras libraries and packages\n",
    "import keras\n",
    "from keras.models import Sequential\n",
    "from keras.layers import Dense"
   ]
  },
  {
   "cell_type": "code",
   "execution_count": 47,
   "metadata": {},
   "outputs": [],
   "source": [
    "# Initialising the ANN\n",
    "classifier = Sequential()"
   ]
  },
  {
   "cell_type": "code",
   "execution_count": 48,
   "metadata": {},
   "outputs": [],
   "source": [
    "# Adding the input layer and the first hidden layer\n",
    "classifier.add(Dense(units = 6, kernel_initializer = 'uniform', activation = 'relu', input_dim = 11))\n",
    "#relu=rectifier transfer function     \n",
    "#units=no. of hidden layer. input+output/2.  11+1/2=6"
   ]
  },
  {
   "cell_type": "code",
   "execution_count": 49,
   "metadata": {},
   "outputs": [],
   "source": [
    "# Adding the second hidden layer\n",
    "classifier.add(Dense(units = 6, kernel_initializer = 'uniform', activation = 'relu'))"
   ]
  },
  {
   "cell_type": "code",
   "execution_count": 50,
   "metadata": {},
   "outputs": [],
   "source": [
    "# Adding the output layer\n",
    "classifier.add(Dense(units = 1, kernel_initializer = 'uniform', activation = 'sigmoid'))\n",
    "#unit= 3 if you have 3 categories for dependent variable\n",
    "#activation= 'softmax' softmax is actually the sigmoid function, but applied to a dependent variable that has more than two\n",
    "#categories\n",
    "\n",
    "# But here, we have two categories, two classes, so we are fine with the sigmoid function"
   ]
  },
  {
   "cell_type": "code",
   "execution_count": 51,
   "metadata": {},
   "outputs": [],
   "source": [
    "# We are done adding the layers of our artificial neural network, and now what we're gonna do is to compile the whole \n",
    "# artificial neural network, that is basically applying stochastic gradient descent on the whole artificial neural network.\n",
    "# That's what compiling means."
   ]
  },
  {
   "cell_type": "code",
   "execution_count": 52,
   "metadata": {},
   "outputs": [],
   "source": [
    "# Compiling the ANN\n",
    "classifier.compile(optimizer = 'adam', loss = 'binary_crossentropy', metrics = ['accuracy'])"
   ]
  },
  {
   "cell_type": "code",
   "execution_count": 53,
   "metadata": {},
   "outputs": [
    {
     "name": "stdout",
     "output_type": "stream",
     "text": [
      "Epoch 1/100\n",
      "8000/8000 [==============================] - 2s 282us/step - loss: 0.4793 - acc: 0.7964\n",
      "Epoch 2/100\n",
      "8000/8000 [==============================] - 1s 187us/step - loss: 0.4100 - acc: 0.8232 0s - loss: 0.4\n",
      "Epoch 3/100\n",
      "8000/8000 [==============================] - 2s 198us/step - loss: 0.3952 - acc: 0.8274\n",
      "Epoch 4/100\n",
      "8000/8000 [==============================] - 1s 169us/step - loss: 0.3854 - acc: 0.8309\n",
      "Epoch 5/100\n",
      "8000/8000 [==============================] - 1s 170us/step - loss: 0.3797 - acc: 0.8306\n",
      "Epoch 6/100\n",
      "8000/8000 [==============================] - 1s 175us/step - loss: 0.3750 - acc: 0.8436\n",
      "Epoch 7/100\n",
      "8000/8000 [==============================] - 1s 172us/step - loss: 0.3708 - acc: 0.8465\n",
      "Epoch 8/100\n",
      "8000/8000 [==============================] - 1s 172us/step - loss: 0.3674 - acc: 0.8490\n",
      "Epoch 9/100\n",
      "8000/8000 [==============================] - 2s 207us/step - loss: 0.3658 - acc: 0.8495\n",
      "Epoch 10/100\n",
      "8000/8000 [==============================] - 2s 188us/step - loss: 0.3636 - acc: 0.8514\n",
      "Epoch 11/100\n",
      "8000/8000 [==============================] - 2s 189us/step - loss: 0.3612 - acc: 0.8524\n",
      "Epoch 12/100\n",
      "8000/8000 [==============================] - 1s 172us/step - loss: 0.3596 - acc: 0.8510\n",
      "Epoch 13/100\n",
      "8000/8000 [==============================] - 2s 254us/step - loss: 0.3577 - acc: 0.8522\n",
      "Epoch 14/100\n",
      "8000/8000 [==============================] - 2s 209us/step - loss: 0.3579 - acc: 0.8550\n",
      "Epoch 15/100\n",
      "8000/8000 [==============================] - 2s 252us/step - loss: 0.3560 - acc: 0.8554\n",
      "Epoch 16/100\n",
      "8000/8000 [==============================] - 2s 249us/step - loss: 0.3565 - acc: 0.8547\n",
      "Epoch 17/100\n",
      "8000/8000 [==============================] - 2s 261us/step - loss: 0.3551 - acc: 0.8561\n",
      "Epoch 18/100\n",
      "8000/8000 [==============================] - 2s 263us/step - loss: 0.3554 - acc: 0.8564\n",
      "Epoch 19/100\n",
      "8000/8000 [==============================] - 2s 250us/step - loss: 0.3549 - acc: 0.8556\n",
      "Epoch 20/100\n",
      "8000/8000 [==============================] - 2s 237us/step - loss: 0.3546 - acc: 0.8544\n",
      "Epoch 21/100\n",
      "8000/8000 [==============================] - 2s 246us/step - loss: 0.3545 - acc: 0.8550\n",
      "Epoch 22/100\n",
      "8000/8000 [==============================] - 2s 258us/step - loss: 0.3529 - acc: 0.8557\n",
      "Epoch 23/100\n",
      "8000/8000 [==============================] - 2s 263us/step - loss: 0.3533 - acc: 0.8569\n",
      "Epoch 24/100\n",
      "8000/8000 [==============================] - 3s 318us/step - loss: 0.3519 - acc: 0.8576\n",
      "Epoch 25/100\n",
      "8000/8000 [==============================] - 2s 245us/step - loss: 0.3509 - acc: 0.8562\n",
      "Epoch 26/100\n",
      "8000/8000 [==============================] - 2s 253us/step - loss: 0.3515 - acc: 0.8547\n",
      "Epoch 27/100\n",
      "8000/8000 [==============================] - 2s 248us/step - loss: 0.3521 - acc: 0.8561\n",
      "Epoch 28/100\n",
      "8000/8000 [==============================] - 3s 330us/step - loss: 0.3501 - acc: 0.8570\n",
      "Epoch 29/100\n",
      "8000/8000 [==============================] - 2s 248us/step - loss: 0.3501 - acc: 0.8576\n",
      "Epoch 30/100\n",
      "8000/8000 [==============================] - 2s 238us/step - loss: 0.3499 - acc: 0.8584\n",
      "Epoch 31/100\n",
      "8000/8000 [==============================] - 2s 199us/step - loss: 0.3492 - acc: 0.8572\n",
      "Epoch 32/100\n",
      "8000/8000 [==============================] - 2s 205us/step - loss: 0.3492 - acc: 0.8580\n",
      "Epoch 33/100\n",
      "8000/8000 [==============================] - 2s 220us/step - loss: 0.3488 - acc: 0.8591\n",
      "Epoch 34/100\n",
      "8000/8000 [==============================] - 2s 263us/step - loss: 0.3478 - acc: 0.8582\n",
      "Epoch 35/100\n",
      "8000/8000 [==============================] - 2s 302us/step - loss: 0.3474 - acc: 0.8561\n",
      "Epoch 36/100\n",
      "8000/8000 [==============================] - 2s 288us/step - loss: 0.3487 - acc: 0.8579\n",
      "Epoch 37/100\n",
      "8000/8000 [==============================] - 2s 244us/step - loss: 0.3470 - acc: 0.8597\n",
      "Epoch 38/100\n",
      "8000/8000 [==============================] - 2s 210us/step - loss: 0.3462 - acc: 0.8569\n",
      "Epoch 39/100\n",
      "8000/8000 [==============================] - 1s 168us/step - loss: 0.3461 - acc: 0.8584\n",
      "Epoch 40/100\n",
      "8000/8000 [==============================] - 1s 160us/step - loss: 0.3453 - acc: 0.8561\n",
      "Epoch 41/100\n",
      "8000/8000 [==============================] - 1s 157us/step - loss: 0.3444 - acc: 0.8581\n",
      "Epoch 42/100\n",
      "8000/8000 [==============================] - 1s 157us/step - loss: 0.3440 - acc: 0.8601\n",
      "Epoch 43/100\n",
      "8000/8000 [==============================] - 1s 157us/step - loss: 0.3434 - acc: 0.8587\n",
      "Epoch 44/100\n",
      "8000/8000 [==============================] - 1s 144us/step - loss: 0.3437 - acc: 0.8582\n",
      "Epoch 45/100\n",
      "8000/8000 [==============================] - 1s 146us/step - loss: 0.3424 - acc: 0.8602\n",
      "Epoch 46/100\n",
      "8000/8000 [==============================] - 1s 144us/step - loss: 0.3415 - acc: 0.8611\n",
      "Epoch 47/100\n",
      "8000/8000 [==============================] - 1s 144us/step - loss: 0.3427 - acc: 0.8610\n",
      "Epoch 48/100\n",
      "8000/8000 [==============================] - 1s 149us/step - loss: 0.3417 - acc: 0.8619\n",
      "Epoch 49/100\n",
      "8000/8000 [==============================] - 1s 146us/step - loss: 0.3418 - acc: 0.8596\n",
      "Epoch 50/100\n",
      "8000/8000 [==============================] - 1s 175us/step - loss: 0.3413 - acc: 0.8592\n",
      "Epoch 51/100\n",
      "8000/8000 [==============================] - 1s 160us/step - loss: 0.3405 - acc: 0.8604\n",
      "Epoch 52/100\n",
      "8000/8000 [==============================] - 1s 145us/step - loss: 0.3407 - acc: 0.8604\n",
      "Epoch 53/100\n",
      "8000/8000 [==============================] - 1s 146us/step - loss: 0.3412 - acc: 0.8625\n",
      "Epoch 54/100\n",
      "8000/8000 [==============================] - 1s 147us/step - loss: 0.3410 - acc: 0.8601\n",
      "Epoch 55/100\n",
      "8000/8000 [==============================] - 1s 143us/step - loss: 0.3396 - acc: 0.8617\n",
      "Epoch 56/100\n",
      "8000/8000 [==============================] - 1s 144us/step - loss: 0.3402 - acc: 0.8594\n",
      "Epoch 57/100\n",
      "8000/8000 [==============================] - 1s 147us/step - loss: 0.3400 - acc: 0.8579\n",
      "Epoch 58/100\n",
      "8000/8000 [==============================] - 1s 148us/step - loss: 0.3401 - acc: 0.8607\n",
      "Epoch 59/100\n",
      "8000/8000 [==============================] - 1s 152us/step - loss: 0.3404 - acc: 0.8580\n",
      "Epoch 60/100\n",
      "8000/8000 [==============================] - 1s 146us/step - loss: 0.3382 - acc: 0.8620\n",
      "Epoch 61/100\n",
      "8000/8000 [==============================] - 1s 153us/step - loss: 0.3398 - acc: 0.8591\n",
      "Epoch 62/100\n",
      "8000/8000 [==============================] - 1s 157us/step - loss: 0.3396 - acc: 0.8620\n",
      "Epoch 63/100\n",
      "8000/8000 [==============================] - 1s 146us/step - loss: 0.3394 - acc: 0.8612\n",
      "Epoch 64/100\n",
      "8000/8000 [==============================] - 1s 143us/step - loss: 0.3383 - acc: 0.8594\n",
      "Epoch 65/100\n",
      "8000/8000 [==============================] - 1s 146us/step - loss: 0.3389 - acc: 0.8607\n",
      "Epoch 66/100\n",
      "8000/8000 [==============================] - 1s 153us/step - loss: 0.3394 - acc: 0.8597\n",
      "Epoch 67/100\n",
      "8000/8000 [==============================] - 1s 147us/step - loss: 0.3383 - acc: 0.8599\n",
      "Epoch 68/100\n",
      "8000/8000 [==============================] - 1s 144us/step - loss: 0.3395 - acc: 0.8605\n",
      "Epoch 69/100\n",
      "8000/8000 [==============================] - 1s 145us/step - loss: 0.3380 - acc: 0.8606\n",
      "Epoch 70/100\n",
      "8000/8000 [==============================] - 1s 145us/step - loss: 0.3384 - acc: 0.8604\n",
      "Epoch 71/100\n",
      "8000/8000 [==============================] - 1s 144us/step - loss: 0.3390 - acc: 0.8600\n",
      "Epoch 72/100\n",
      "8000/8000 [==============================] - 1s 144us/step - loss: 0.3387 - acc: 0.8605\n",
      "Epoch 73/100\n",
      "8000/8000 [==============================] - 1s 144us/step - loss: 0.3386 - acc: 0.8596\n",
      "Epoch 74/100\n",
      "8000/8000 [==============================] - 1s 143us/step - loss: 0.3382 - acc: 0.8600\n",
      "Epoch 75/100\n",
      "8000/8000 [==============================] - 1s 143us/step - loss: 0.3376 - acc: 0.8590\n",
      "Epoch 76/100\n",
      "8000/8000 [==============================] - 1s 143us/step - loss: 0.3387 - acc: 0.8601\n",
      "Epoch 77/100\n",
      "8000/8000 [==============================] - 1s 143us/step - loss: 0.3387 - acc: 0.8619\n",
      "Epoch 78/100\n",
      "8000/8000 [==============================] - 1s 142us/step - loss: 0.3387 - acc: 0.8625\n",
      "Epoch 79/100\n",
      "8000/8000 [==============================] - 1s 143us/step - loss: 0.3389 - acc: 0.8595\n",
      "Epoch 80/100\n",
      "8000/8000 [==============================] - 1s 143us/step - loss: 0.3382 - acc: 0.8602\n",
      "Epoch 81/100\n",
      "8000/8000 [==============================] - 1s 143us/step - loss: 0.3384 - acc: 0.8612\n",
      "Epoch 82/100\n"
     ]
    },
    {
     "name": "stdout",
     "output_type": "stream",
     "text": [
      "8000/8000 [==============================] - 1s 143us/step - loss: 0.3379 - acc: 0.8616\n",
      "Epoch 83/100\n",
      "8000/8000 [==============================] - 1s 141us/step - loss: 0.3393 - acc: 0.8604\n",
      "Epoch 84/100\n",
      "8000/8000 [==============================] - 1s 143us/step - loss: 0.3388 - acc: 0.8600\n",
      "Epoch 85/100\n",
      "8000/8000 [==============================] - 1s 143us/step - loss: 0.3379 - acc: 0.8606\n",
      "Epoch 86/100\n",
      "8000/8000 [==============================] - 1s 143us/step - loss: 0.3378 - acc: 0.8601\n",
      "Epoch 87/100\n",
      "8000/8000 [==============================] - 1s 141us/step - loss: 0.3377 - acc: 0.8602\n",
      "Epoch 88/100\n",
      "8000/8000 [==============================] - 1s 143us/step - loss: 0.3378 - acc: 0.8617\n",
      "Epoch 89/100\n",
      "8000/8000 [==============================] - 1s 145us/step - loss: 0.3385 - acc: 0.8614\n",
      "Epoch 90/100\n",
      "8000/8000 [==============================] - 1s 144us/step - loss: 0.3385 - acc: 0.8599\n",
      "Epoch 91/100\n",
      "8000/8000 [==============================] - 1s 143us/step - loss: 0.3385 - acc: 0.8606\n",
      "Epoch 92/100\n",
      "8000/8000 [==============================] - 1s 143us/step - loss: 0.3373 - acc: 0.8611\n",
      "Epoch 93/100\n",
      "8000/8000 [==============================] - 1s 143us/step - loss: 0.3381 - acc: 0.8621\n",
      "Epoch 94/100\n",
      "8000/8000 [==============================] - 1s 143us/step - loss: 0.3373 - acc: 0.8597\n",
      "Epoch 95/100\n",
      "8000/8000 [==============================] - 1s 143us/step - loss: 0.3386 - acc: 0.8597\n",
      "Epoch 96/100\n",
      "8000/8000 [==============================] - 1s 141us/step - loss: 0.3370 - acc: 0.8629\n",
      "Epoch 97/100\n",
      "8000/8000 [==============================] - 1s 143us/step - loss: 0.3375 - acc: 0.8627\n",
      "Epoch 98/100\n",
      "8000/8000 [==============================] - 1s 143us/step - loss: 0.3373 - acc: 0.8600\n",
      "Epoch 99/100\n",
      "8000/8000 [==============================] - 1s 143us/step - loss: 0.3380 - acc: 0.8606\n",
      "Epoch 100/100\n",
      "8000/8000 [==============================] - 1s 143us/step - loss: 0.3380 - acc: 0.8621\n"
     ]
    },
    {
     "data": {
      "text/plain": [
       "<keras.callbacks.History at 0x19270f639e8>"
      ]
     },
     "execution_count": 53,
     "metadata": {},
     "output_type": "execute_result"
    }
   ],
   "source": [
    "# Fitting the ANN to the Training set\n",
    "classifier.fit(X_train, y_train, batch_size = 10, epochs = 100)"
   ]
  },
  {
   "cell_type": "markdown",
   "metadata": {},
   "source": [
    "# Making predictions and evaluating the model\n"
   ]
  },
  {
   "cell_type": "code",
   "execution_count": 54,
   "metadata": {},
   "outputs": [],
   "source": [
    "# Predicting the Test set results\n",
    "y_pred = classifier.predict(X_test)\n",
    "y_pred = (y_pred > 0.5)"
   ]
  },
  {
   "cell_type": "code",
   "execution_count": 55,
   "metadata": {},
   "outputs": [
    {
     "name": "stdout",
     "output_type": "stream",
     "text": [
      "[[1502   93]\n",
      " [ 191  214]]\n",
      "\n",
      "\n",
      "              precision    recall  f1-score   support\n",
      "\n",
      "           0       0.89      0.94      0.91      1595\n",
      "           1       0.70      0.53      0.60       405\n",
      "\n",
      "   micro avg       0.86      0.86      0.86      2000\n",
      "   macro avg       0.79      0.74      0.76      2000\n",
      "weighted avg       0.85      0.86      0.85      2000\n",
      "\n"
     ]
    }
   ],
   "source": [
    "# Making the Confusion Matrix and classification report\n",
    "from sklearn.metrics import confusion_matrix, classification_report\n",
    "print(confusion_matrix(y_test, y_pred))\n",
    "print('\\n')\n",
    "print(classification_report(y_test,y_pred))"
   ]
  },
  {
   "cell_type": "code",
   "execution_count": 56,
   "metadata": {},
   "outputs": [],
   "source": [
    "# The accuracy is the number of correct predictions divided by the total number of predictions\n",
    "# here correct predictions- 1539,146"
   ]
  },
  {
   "cell_type": "code",
   "execution_count": 57,
   "metadata": {},
   "outputs": [
    {
     "data": {
      "text/plain": [
       "0.8425"
      ]
     },
     "execution_count": 57,
     "metadata": {},
     "output_type": "execute_result"
    }
   ],
   "source": [
    "(1539+146)/2000"
   ]
  },
  {
   "cell_type": "markdown",
   "metadata": {},
   "source": [
    "# Accuracy of our model is 84.5%"
   ]
  },
  {
   "cell_type": "markdown",
   "metadata": {},
   "source": [
    "So, eventually, we can validate our model, and now the bank can use it to make a ranking of their customers, \n",
    "ranked by their probability to leave the bank, from the customer that has the highest probability to leave the bank,\n",
    "down to the customer that has the lowest probability to leave the bank."
   ]
  },
  {
   "cell_type": "markdown",
   "metadata": {},
   "source": [
    "# Predicting a single new observation\n"
   ]
  },
  {
   "cell_type": "code",
   "execution_count": 58,
   "metadata": {},
   "outputs": [
    {
     "data": {
      "text/plain": [
       "'Predict if the customer with the following informations will leave the bank:\\nGeography: France\\nCredit Score: 600\\nGender: Male\\nAge: 40\\nTenure: 3\\nBalance: 60000\\nNumber of Products: 2\\nHas Credit Card: Yes\\nIs Active Member: Yes\\nEstimated Salary: 50000'"
      ]
     },
     "execution_count": 58,
     "metadata": {},
     "output_type": "execute_result"
    }
   ],
   "source": [
    "\"\"\"Predict if the customer with the following informations will leave the bank:\n",
    "Geography: France\n",
    "Credit Score: 600\n",
    "Gender: Male\n",
    "Age: 40\n",
    "Tenure: 3\n",
    "Balance: 60000\n",
    "Number of Products: 2\n",
    "Has Credit Card: Yes\n",
    "Is Active Member: Yes\n",
    "Estimated Salary: 50000\"\"\""
   ]
  },
  {
   "cell_type": "code",
   "execution_count": 61,
   "metadata": {},
   "outputs": [],
   "source": [
    "new_prediction = classifier.predict(sc.transform(np.array([[0.0, 0, 600, 1, 40, 3, 60000, 2, 1, 1, 50000]])))\n",
    "new_prediction = (new_prediction > 0.5)"
   ]
  },
  {
   "cell_type": "code",
   "execution_count": 64,
   "metadata": {},
   "outputs": [
    {
     "name": "stdout",
     "output_type": "stream",
     "text": [
      "[[1502   93]\n",
      " [ 191  214]]\n",
      "\n",
      "\n",
      "              precision    recall  f1-score   support\n",
      "\n",
      "           0       0.89      0.94      0.91      1595\n",
      "           1       0.70      0.53      0.60       405\n",
      "\n",
      "   micro avg       0.86      0.86      0.86      2000\n",
      "   macro avg       0.79      0.74      0.76      2000\n",
      "weighted avg       0.85      0.86      0.85      2000\n",
      "\n"
     ]
    }
   ],
   "source": [
    "# Making the Confusion Matrix\n",
    "print(confusion_matrix(y_test,y_pred))\n",
    "print('\\n')\n",
    "print(classification_report(y_test,y_pred))"
   ]
  },
  {
   "cell_type": "code",
   "execution_count": 65,
   "metadata": {},
   "outputs": [
    {
     "data": {
      "text/plain": [
       "array([[False]])"
      ]
     },
     "execution_count": 65,
     "metadata": {},
     "output_type": "execute_result"
    }
   ],
   "source": [
    "new_prediction"
   ]
  },
  {
   "cell_type": "markdown",
   "metadata": {},
   "source": [
    "# Therefore the customer doesn't leave the bank"
   ]
  }
 ],
 "metadata": {
  "kernelspec": {
   "display_name": "Python 3",
   "language": "python",
   "name": "python3"
  },
  "language_info": {
   "codemirror_mode": {
    "name": "ipython",
    "version": 3
   },
   "file_extension": ".py",
   "mimetype": "text/x-python",
   "name": "python",
   "nbconvert_exporter": "python",
   "pygments_lexer": "ipython3",
   "version": "3.6.8"
  }
 },
 "nbformat": 4,
 "nbformat_minor": 2
}
