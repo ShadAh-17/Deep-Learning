{
 "cells": [
  {
   "cell_type": "markdown",
   "metadata": {},
   "source": [
    "To Predict the stock price of Google. There is the Brownian Motion that states that the future variations of the stock price are\n",
    "independent from the past. So its actually impossible to predict exactly the future\n",
    "stock price but its actually possible to predict some trends.\n",
    "\n",
    "So I'am gonna try to predict the upward and downward trends\n",
    "that exist in the Google stock price.\n",
    "And to do so, the model that I will implement\n",
    "in this will be an LSTM.\n",
    "I will make an LSTM that will try to capture\n",
    "the downward and upward trend of the Google stock price.\n",
    "And with that goal in mind, it can be said,\n",
    "that LSTM is the most powerful model that can do this.\n",
    "It performs well better than the traditional RMI model.\n",
    "\n",
    
   ]
  },
  {
   "cell_type": "markdown",
   "metadata": {},
   "source": [
    "## Data Preprocessing"
   ]
  },
  {
   "cell_type": "code",
   "execution_count": 1,
   "metadata": {},
   "outputs": [],
   "source": [
    "import numpy as np\n",
    "import matplotlib.pyplot as plt\n",
    "import pandas as pd\n",
    "%matplotlib inline"
   ]
  },
  {
   "cell_type": "markdown",
   "metadata": {},
   "source": [
    "### Importing training set"
   ]
  },
  {
   "cell_type": "markdown",
   "metadata": {},
   "source": [
    "So to import the training set, we first need to import the data as a DataFrame, which we'll import with panda using the read on CSV function. But then remember we have to not only select the right column that we need, which is the open Google\n",
    "stock price but also we need to make it a NumPy array because only NumPy arrays can be the input\n",
    "of neural networks in Keras."
   ]
  },
  {
   "cell_type": "code",
   "execution_count": 2,
   "metadata": {},
   "outputs": [],
   "source": [
    "df_train=pd.read_csv('Google_Stock_Price_Train.csv')\n",
    "training_set=df_train.iloc[:,1:2].values"
   ]
  },
  {
   "cell_type": "markdown",
   "metadata": {},
   "source": [
    "We cannot input the index one only, because we want to create a NumPy array and not a simple vector.\n",
    "And to do this, the trick is to take not a single index one,\n",
    "but the range from one to two,\n",
    "because ranges in Python have their upper bound excluded.\n",
    "Therefore, the two here is excluded,\n",
    "and therefore even by taking the range from one to two,\n",
    "we are only getting the first index,\n",
    "and this will make sure, eventually,\n",
    "to have a NumPy array of one column."
   ]
  },
  {
   "cell_type": "code",
   "execution_count": 3,
   "metadata": {},
   "outputs": [
    {
     "data": {
      "text/plain": [
       "array([[325.25],\n",
       "       [331.27],\n",
       "       [329.83],\n",
       "       ...,\n",
       "       [793.7 ],\n",
       "       [783.33],\n",
       "       [782.75]])"
      ]
     },
     "execution_count": 3,
     "metadata": {},
     "output_type": "execute_result"
    }
   ],
   "source": [
    "training_set"
   ]
  },
  {
   "cell_type": "markdown",
   "metadata": {},
   "source": [
    "### Feature Scaling"
   ]
  },
  {
   "cell_type": "code",
   "execution_count": 4,
   "metadata": {},
   "outputs": [],
   "source": [
    "from sklearn.preprocessing import MinMaxScaler"
   ]
  },
  {
   "cell_type": "code",
   "execution_count": 5,
   "metadata": {},
   "outputs": [],
   "source": [
    "sc=MinMaxScaler(feature_range=(0,1))"
   ]
  },
  {
   "cell_type": "code",
   "execution_count": 6,
   "metadata": {},
   "outputs": [
    {
     "data": {
      "text/plain": [
       "array([[0.08581368],\n",
       "       [0.09701243],\n",
       "       [0.09433366],\n",
       "       ...,\n",
       "       [0.95725128],\n",
       "       [0.93796041],\n",
       "       [0.93688146]])"
      ]
     },
     "execution_count": 6,
     "metadata": {},
     "output_type": "execute_result"
    }
   ],
   "source": [
    "training_set_scaled=sc.fit_transform(training_set)\n",
    "training_set_scaled"
   ]
  },
  {
   "cell_type": "markdown",
   "metadata": {},
   "source": [
    "All the stock prices are now\n",
    "normalized between zero and one."
   ]
  },
  {
   "cell_type": "markdown",
   "metadata": {},
   "source": [
    "### Creating a data structure with 60 timesteps and 1 output"
   ]
  },
  {
   "cell_type": "markdown",
   "metadata": {},
   "source": [
    "60 timesteps and one output.\n",
    "so 60 timesteps means that at each time T,\n",
    "the RNN is going to look\n",
    "at the 60 stock prices before time T,\n",
    "that is the stock prices between 60 days before time T\n",
    "and time T, and based on the trends,\n",
    "it is capturing during these 60 previous timesteps,\n",
    "it will try to predict the next output.\n",
    "So 60 timesteps of the past information\n",
    "from which our RNN is gonna try to learn\n",
    "and understand some correlations,\n",
    "or some trends, and based on its understanding,\n",
    "it's going to try to predict the next output.\n",
    "That is, the stock price at time T plus one."
   ]
  },
  {
   "cell_type": "code",
   "execution_count": 7,
   "metadata": {},
   "outputs": [],
   "source": [
    "X_train=[]\n",
    "y_train=[]"
   ]
  },
  {
   "cell_type": "code",
   "execution_count": 8,
   "metadata": {},
   "outputs": [],
   "source": [
    "for i in range(60,1258):\n",
    "    X_train.append(training_set_scaled[i-60:i,0])\n",
    "    y_train.append(training_set_scaled[i,0])\n",
    "X_train, y_train = np.array(X_train), np.array(y_train)"
   ]
  },
  {
   "cell_type": "code",
   "execution_count": 9,
   "metadata": {},
   "outputs": [
    {
     "data": {
      "text/plain": [
       "array([[0.08581368, 0.09701243, 0.09433366, ..., 0.07846566, 0.08034452,\n",
       "        0.08497656],\n",
       "       [0.09701243, 0.09433366, 0.09156187, ..., 0.08034452, 0.08497656,\n",
       "        0.08627874],\n",
       "       [0.09433366, 0.09156187, 0.07984225, ..., 0.08497656, 0.08627874,\n",
       "        0.08471612],\n",
       "       ...,\n",
       "       [0.92106928, 0.92438053, 0.93048218, ..., 0.95475854, 0.95204256,\n",
       "        0.95163331],\n",
       "       [0.92438053, 0.93048218, 0.9299055 , ..., 0.95204256, 0.95163331,\n",
       "        0.95725128],\n",
       "       [0.93048218, 0.9299055 , 0.93113327, ..., 0.95163331, 0.95725128,\n",
       "        0.93796041]])"
      ]
     },
     "execution_count": 9,
     "metadata": {},
     "output_type": "execute_result"
    }
   ],
   "source": [
    "X_train"
   ]
  },
  {
   "cell_type": "code",
   "execution_count": 10,
   "metadata": {},
   "outputs": [
    {
     "data": {
      "text/plain": [
       "array([0.08627874, 0.08471612, 0.07454052, ..., 0.95725128, 0.93796041,\n",
       "       0.93688146])"
      ]
     },
     "execution_count": 10,
     "metadata": {},
     "output_type": "execute_result"
    }
   ],
   "source": [
    "y_train"
   ]
  },
  {
   "cell_type": "markdown",
   "metadata": {},
   "source": [
    "### Reshaping"
   ]
  },
  {
   "cell_type": "code",
   "execution_count": 11,
   "metadata": {},
   "outputs": [],
   "source": [
    "X_train=np.reshape(X_train, (X_train.shape[0], X_train.shape[1], 1))"
   ]
  },
  {
   "cell_type": "code",
   "execution_count": 12,
   "metadata": {},
   "outputs": [
    {
     "data": {
      "text/plain": [
       "array([[[0.08581368],\n",
       "        [0.09701243],\n",
       "        [0.09433366],\n",
       "        ...,\n",
       "        [0.07846566],\n",
       "        [0.08034452],\n",
       "        [0.08497656]],\n",
       "\n",
       "       [[0.09701243],\n",
       "        [0.09433366],\n",
       "        [0.09156187],\n",
       "        ...,\n",
       "        [0.08034452],\n",
       "        [0.08497656],\n",
       "        [0.08627874]],\n",
       "\n",
       "       [[0.09433366],\n",
       "        [0.09156187],\n",
       "        [0.07984225],\n",
       "        ...,\n",
       "        [0.08497656],\n",
       "        [0.08627874],\n",
       "        [0.08471612]],\n",
       "\n",
       "       ...,\n",
       "\n",
       "       [[0.92106928],\n",
       "        [0.92438053],\n",
       "        [0.93048218],\n",
       "        ...,\n",
       "        [0.95475854],\n",
       "        [0.95204256],\n",
       "        [0.95163331]],\n",
       "\n",
       "       [[0.92438053],\n",
       "        [0.93048218],\n",
       "        [0.9299055 ],\n",
       "        ...,\n",
       "        [0.95204256],\n",
       "        [0.95163331],\n",
       "        [0.95725128]],\n",
       "\n",
       "       [[0.93048218],\n",
       "        [0.9299055 ],\n",
       "        [0.93113327],\n",
       "        ...,\n",
       "        [0.95163331],\n",
       "        [0.95725128],\n",
       "        [0.93796041]]])"
      ]
     },
     "execution_count": 12,
     "metadata": {},
     "output_type": "execute_result"
    }
   ],
   "source": [
    "X_train"
   ]
  },
  {
   "cell_type": "markdown",
   "metadata": {},
   "source": [
    "## Building the RNN"
   ]
  },
  {
   "cell_type": "code",
   "execution_count": 13,
   "metadata": {},
   "outputs": [
    {
     "name": "stderr",
     "output_type": "stream",
     "text": [
      "Using TensorFlow backend.\n"
     ]
    }
   ],
   "source": [
    "from keras.models import Sequential\n",
    "from keras.layers import Dense\n",
    "from keras.layers import LSTM\n",
    "from keras.layers import Dropout"
   ]
  },
  {
   "cell_type": "code",
   "execution_count": 14,
   "metadata": {},
   "outputs": [],
   "source": [
    "# Initialising the RNN\n",
    "regressor = Sequential()"
   ]
  },
  {
   "cell_type": "code",
   "execution_count": 15,
   "metadata": {},
   "outputs": [
    {
     "name": "stdout",
     "output_type": "stream",
     "text": [
      "WARNING:tensorflow:From C:\\Users\\SHADAAB\\AppData\\Local\\conda\\conda\\envs\\hello-tf\\lib\\site-packages\\tensorflow\\python\\framework\\op_def_library.py:263: colocate_with (from tensorflow.python.framework.ops) is deprecated and will be removed in a future version.\n",
      "Instructions for updating:\n",
      "Colocations handled automatically by placer.\n",
      "WARNING:tensorflow:From C:\\Users\\SHADAAB\\AppData\\Local\\conda\\conda\\envs\\hello-tf\\lib\\site-packages\\keras\\backend\\tensorflow_backend.py:3445: calling dropout (from tensorflow.python.ops.nn_ops) with keep_prob is deprecated and will be removed in a future version.\n",
      "Instructions for updating:\n",
      "Please use `rate` instead of `keep_prob`. Rate should be set to `rate = 1 - keep_prob`.\n"
     ]
    }
   ],
   "source": [
    "# Adding the first LSTM layer and some Dropout regularisation\n",
    "regressor.add(LSTM(units = 50, return_sequences = True, input_shape = (X_train.shape[1], 1)))\n",
    "regressor.add(Dropout(0.2))"
   ]
  },
  {
   "cell_type": "code",
   "execution_count": 16,
   "metadata": {},
   "outputs": [],
   "source": [
    "# Adding a second LSTM layer and some Dropout regularisation\n",
    "regressor.add(LSTM(units = 50, return_sequences = True))\n",
    "regressor.add(Dropout(0.2))"
   ]
  },
  {
   "cell_type": "code",
   "execution_count": 17,
   "metadata": {},
   "outputs": [],
   "source": [
    "# Adding a third LSTM layer and some Dropout regularisation\n",
    "regressor.add(LSTM(units = 50, return_sequences = True))\n",
    "regressor.add(Dropout(0.2))"
   ]
  },
  {
   "cell_type": "code",
   "execution_count": 18,
   "metadata": {},
   "outputs": [],
   "source": [
    "# Adding a fourth LSTM layer and some Dropout regularisation\n",
    "regressor.add(LSTM(units = 50))\n",
    "regressor.add(Dropout(0.2))"
   ]
  },
  {
   "cell_type": "code",
   "execution_count": 19,
   "metadata": {},
   "outputs": [],
   "source": [
    "# Adding the output layer\n",
    "regressor.add(Dense(units = 1))"
   ]
  },
  {
   "cell_type": "code",
   "execution_count": 20,
   "metadata": {},
   "outputs": [
    {
     "name": "stdout",
     "output_type": "stream",
     "text": [
      "WARNING:tensorflow:From C:\\Users\\SHADAAB\\AppData\\Local\\conda\\conda\\envs\\hello-tf\\lib\\site-packages\\tensorflow\\python\\ops\\math_ops.py:3066: to_int32 (from tensorflow.python.ops.math_ops) is deprecated and will be removed in a future version.\n",
      "Instructions for updating:\n",
      "Use tf.cast instead.\n",
      "Epoch 1/100\n",
      "1198/1198 [==============================] - 43s 36ms/step - loss: 0.0491\n",
      "Epoch 2/100\n",
      "1198/1198 [==============================] - 14s 12ms/step - loss: 0.0064\n",
      "Epoch 3/100\n",
      "1198/1198 [==============================] - 15s 12ms/step - loss: 0.0055\n",
      "Epoch 4/100\n",
      "1198/1198 [==============================] - 14s 12ms/step - loss: 0.0050\n",
      "Epoch 5/100\n",
      "1198/1198 [==============================] - 15s 12ms/step - loss: 0.0050\n",
      "Epoch 6/100\n",
      "1198/1198 [==============================] - 15s 13ms/step - loss: 0.0053\n",
      "Epoch 7/100\n",
      "1198/1198 [==============================] - 15s 12ms/step - loss: 0.0040\n",
      "Epoch 8/100\n",
      "1198/1198 [==============================] - 14s 12ms/step - loss: 0.0042\n",
      "Epoch 9/100\n",
      "1198/1198 [==============================] - 14s 12ms/step - loss: 0.0041\n",
      "Epoch 10/100\n",
      "1198/1198 [==============================] - 18s 15ms/step - loss: 0.0043\n",
      "Epoch 11/100\n",
      "1198/1198 [==============================] - 15s 13ms/step - loss: 0.0042\n",
      "Epoch 12/100\n",
      "1198/1198 [==============================] - 14s 12ms/step - loss: 0.0039\n",
      "Epoch 13/100\n",
      "1198/1198 [==============================] - 15s 12ms/step - loss: 0.0037\n",
      "Epoch 14/100\n",
      "1198/1198 [==============================] - 23s 19ms/step - loss: 0.0036\n",
      "Epoch 15/100\n",
      "1198/1198 [==============================] - 15s 13ms/step - loss: 0.0038\n",
      "Epoch 16/100\n",
      "1198/1198 [==============================] - 16s 13ms/step - loss: 0.0036\n",
      "Epoch 17/100\n",
      "1198/1198 [==============================] - 16s 14ms/step - loss: 0.0041\n",
      "Epoch 18/100\n",
      "1198/1198 [==============================] - 15s 12ms/step - loss: 0.0037\n",
      "Epoch 19/100\n",
      "1198/1198 [==============================] - 11s 9ms/step - loss: 0.0035\n",
      "Epoch 20/100\n",
      "1198/1198 [==============================] - 25s 21ms/step - loss: 0.0037\n",
      "Epoch 21/100\n",
      "1198/1198 [==============================] - 12s 10ms/step - loss: 0.0035\n",
      "Epoch 22/100\n",
      "1198/1198 [==============================] - 12s 10ms/step - loss: 0.0041\n",
      "Epoch 23/100\n",
      "1198/1198 [==============================] - 10s 9ms/step - loss: 0.0034\n",
      "Epoch 24/100\n",
      "1198/1198 [==============================] - 10s 9ms/step - loss: 0.0033\n",
      "Epoch 25/100\n",
      "1198/1198 [==============================] - 10s 9ms/step - loss: 0.0035\n",
      "Epoch 26/100\n",
      "1198/1198 [==============================] - 11s 9ms/step - loss: 0.0027\n",
      "Epoch 27/100\n",
      "1198/1198 [==============================] - 13s 11ms/step - loss: 0.0030\n",
      "Epoch 28/100\n",
      "1198/1198 [==============================] - 14s 11ms/step - loss: 0.0030\n",
      "Epoch 29/100\n",
      "1198/1198 [==============================] - 14s 11ms/step - loss: 0.0030\n",
      "Epoch 30/100\n",
      "1198/1198 [==============================] - 14s 11ms/step - loss: 0.0029\n",
      "Epoch 31/100\n",
      "1198/1198 [==============================] - 13s 11ms/step - loss: 0.0028\n",
      "Epoch 32/100\n",
      "1198/1198 [==============================] - 10s 9ms/step - loss: 0.0029\n",
      "Epoch 33/100\n",
      "1198/1198 [==============================] - 10s 9ms/step - loss: 0.0028\n",
      "Epoch 34/100\n",
      "1198/1198 [==============================] - 10s 9ms/step - loss: 0.0029\n",
      "Epoch 35/100\n",
      "1198/1198 [==============================] - 11s 10ms/step - loss: 0.0028\n",
      "Epoch 36/100\n",
      "1198/1198 [==============================] - 10s 9ms/step - loss: 0.0026\n",
      "Epoch 37/100\n",
      "1198/1198 [==============================] - 10s 9ms/step - loss: 0.0026\n",
      "Epoch 38/100\n",
      "1198/1198 [==============================] - 10s 9ms/step - loss: 0.0027\n",
      "Epoch 39/100\n",
      "1198/1198 [==============================] - 10s 9ms/step - loss: 0.0025\n",
      "Epoch 40/100\n",
      "1198/1198 [==============================] - 11s 9ms/step - loss: 0.0025\n",
      "Epoch 41/100\n",
      "1198/1198 [==============================] - 10s 9ms/step - loss: 0.0029\n",
      "Epoch 42/100\n",
      "1198/1198 [==============================] - 11s 9ms/step - loss: 0.0035\n",
      "Epoch 43/100\n",
      "1198/1198 [==============================] - 11s 9ms/step - loss: 0.0025\n",
      "Epoch 44/100\n",
      "1198/1198 [==============================] - 11s 10ms/step - loss: 0.0027\n",
      "Epoch 45/100\n",
      "1198/1198 [==============================] - 10s 9ms/step - loss: 0.0029\n",
      "Epoch 46/100\n",
      "1198/1198 [==============================] - 10s 9ms/step - loss: 0.0027\n",
      "Epoch 47/100\n",
      "1198/1198 [==============================] - 10s 9ms/step - loss: 0.0024\n",
      "Epoch 48/100\n",
      "1198/1198 [==============================] - 10s 9ms/step - loss: 0.0024\n",
      "Epoch 49/100\n",
      "1198/1198 [==============================] - 10s 9ms/step - loss: 0.0025\n",
      "Epoch 50/100\n",
      "1198/1198 [==============================] - 10s 9ms/step - loss: 0.0026\n",
      "Epoch 51/100\n",
      "1198/1198 [==============================] - 11s 9ms/step - loss: 0.0025\n",
      "Epoch 52/100\n",
      "1198/1198 [==============================] - 10s 9ms/step - loss: 0.0022\n",
      "Epoch 53/100\n",
      "1198/1198 [==============================] - 11s 9ms/step - loss: 0.0021\n",
      "Epoch 54/100\n",
      "1198/1198 [==============================] - 10s 9ms/step - loss: 0.0024\n",
      "Epoch 55/100\n",
      "1198/1198 [==============================] - 13s 11ms/step - loss: 0.0021\n",
      "Epoch 56/100\n",
      "1198/1198 [==============================] - 13s 11ms/step - loss: 0.0022\n",
      "Epoch 57/100\n",
      "1198/1198 [==============================] - 13s 11ms/step - loss: 0.0022\n",
      "Epoch 58/100\n",
      "1198/1198 [==============================] - 13s 11ms/step - loss: 0.0022\n",
      "Epoch 59/100\n",
      "1198/1198 [==============================] - 14s 11ms/step - loss: 0.0024\n",
      "Epoch 60/100\n",
      "1198/1198 [==============================] - 14s 11ms/step - loss: 0.0020\n",
      "Epoch 61/100\n",
      "1198/1198 [==============================] - 13s 11ms/step - loss: 0.0020\n",
      "Epoch 62/100\n",
      "1198/1198 [==============================] - 13s 11ms/step - loss: 0.0019\n",
      "Epoch 63/100\n",
      "1198/1198 [==============================] - 13s 11ms/step - loss: 0.0018\n",
      "Epoch 64/100\n",
      "1198/1198 [==============================] - 13s 11ms/step - loss: 0.0020\n",
      "Epoch 65/100\n",
      "1198/1198 [==============================] - 13s 11ms/step - loss: 0.0020\n",
      "Epoch 66/100\n",
      "1198/1198 [==============================] - 14s 11ms/step - loss: 0.0018\n",
      "Epoch 67/100\n",
      "1198/1198 [==============================] - 13s 11ms/step - loss: 0.0021\n",
      "Epoch 68/100\n",
      "1198/1198 [==============================] - 14s 11ms/step - loss: 0.0018\n",
      "Epoch 69/100\n",
      "1198/1198 [==============================] - 13s 11ms/step - loss: 0.0018\n",
      "Epoch 70/100\n",
      "1198/1198 [==============================] - 14s 12ms/step - loss: 0.0017\n",
      "Epoch 71/100\n",
      "1198/1198 [==============================] - 13s 11ms/step - loss: 0.0018\n",
      "Epoch 72/100\n",
      "1198/1198 [==============================] - 15s 12ms/step - loss: 0.0019\n",
      "Epoch 73/100\n",
      "1198/1198 [==============================] - 15s 12ms/step - loss: 0.0017\n",
      "Epoch 74/100\n",
      "1198/1198 [==============================] - 14s 11ms/step - loss: 0.0019\n",
      "Epoch 75/100\n",
      "1198/1198 [==============================] - 13s 11ms/step - loss: 0.0020\n",
      "Epoch 76/100\n",
      "1198/1198 [==============================] - 14s 11ms/step - loss: 0.0019\n",
      "Epoch 77/100\n",
      "1198/1198 [==============================] - 14s 11ms/step - loss: 0.0017\n",
      "Epoch 78/100\n",
      "1198/1198 [==============================] - 13s 11ms/step - loss: 0.0019\n",
      "Epoch 79/100\n",
      "1198/1198 [==============================] - 13s 11ms/step - loss: 0.0018\n",
      "Epoch 80/100\n",
      "1198/1198 [==============================] - 14s 12ms/step - loss: 0.0018\n",
      "Epoch 81/100\n",
      "1198/1198 [==============================] - 14s 12ms/step - loss: 0.0018\n",
      "Epoch 82/100\n",
      "1198/1198 [==============================] - 16s 13ms/step - loss: 0.0017\n",
      "Epoch 83/100\n",
      "1198/1198 [==============================] - 13s 11ms/step - loss: 0.0018\n",
      "Epoch 84/100\n",
      "1198/1198 [==============================] - 14s 11ms/step - loss: 0.0017\n",
      "Epoch 85/100\n",
      "1198/1198 [==============================] - 14s 11ms/step - loss: 0.0016\n",
      "Epoch 86/100\n",
      "1198/1198 [==============================] - 14s 12ms/step - loss: 0.0016\n",
      "Epoch 87/100\n",
      "1198/1198 [==============================] - 14s 12ms/step - loss: 0.0016\n",
      "Epoch 88/100\n",
      "1198/1198 [==============================] - 16s 14ms/step - loss: 0.0017\n",
      "Epoch 89/100\n",
      "1198/1198 [==============================] - 19s 16ms/step - loss: 0.0016\n",
      "Epoch 90/100\n",
      "1198/1198 [==============================] - 26s 22ms/step - loss: 0.0015\n",
      "Epoch 91/100\n",
      "1198/1198 [==============================] - 20s 16ms/step - loss: 0.0016\n",
      "Epoch 92/100\n"
     ]
    },
    {
     "name": "stdout",
     "output_type": "stream",
     "text": [
      "1198/1198 [==============================] - 20s 17ms/step - loss: 0.0015\n",
      "Epoch 93/100\n",
      "1198/1198 [==============================] - 16s 14ms/step - loss: 0.0015\n",
      "Epoch 94/100\n",
      "1198/1198 [==============================] - 15s 13ms/step - loss: 0.0015\n",
      "Epoch 95/100\n",
      "1198/1198 [==============================] - 16s 13ms/step - loss: 0.0015\n",
      "Epoch 96/100\n",
      "1198/1198 [==============================] - 16s 13ms/step - loss: 0.0014\n",
      "Epoch 97/100\n",
      "1198/1198 [==============================] - 15s 12ms/step - loss: 0.0017\n",
      "Epoch 98/100\n",
      "1198/1198 [==============================] - 14s 12ms/step - loss: 0.0016\n",
      "Epoch 99/100\n",
      "1198/1198 [==============================] - 16s 14ms/step - loss: 0.0013\n",
      "Epoch 100/100\n",
      "1198/1198 [==============================] - 22s 18ms/step - loss: 0.0014\n"
     ]
    },
    {
     "data": {
      "text/plain": [
       "<keras.callbacks.History at 0x1be308f3278>"
      ]
     },
     "execution_count": 20,
     "metadata": {},
     "output_type": "execute_result"
    }
   ],
   "source": [
    "# Compiling the RNN\n",
    "regressor.compile(optimizer = 'adam', loss = 'mean_squared_error')\n",
    "\n",
    "# Fitting the RNN to the Training set\n",
    "regressor.fit(X_train, y_train, epochs = 100, batch_size = 32)\n"
   ]
  },
  {
   "cell_type": "markdown",
   "metadata": {},
   "source": [
    "## Making the predictions and visualising the results"
   ]
  },
  {
   "cell_type": "code",
   "execution_count": 21,
   "metadata": {},
   "outputs": [],
   "source": [
    "# The real stock price of 2017\n",
    "dataset_test = pd.read_csv('Google_Stock_Price_Test.csv')\n",
    "real_stock_price = dataset_test.iloc[:, 1:2].values"
   ]
  },
  {
   "cell_type": "code",
   "execution_count": 23,
   "metadata": {},
   "outputs": [],
   "source": [
    "# The predicted stock price of 2017\n",
    "dataset_total = pd.concat((df_train['Open'], dataset_test['Open']), axis = 0)\n",
    "inputs = dataset_total[len(dataset_total) - len(dataset_test) - 60:].values\n",
    "inputs = inputs.reshape(-1,1)\n",
    "inputs = sc.transform(inputs)\n",
    "X_test = []\n",
    "for i in range(60, 80):\n",
    "    X_test.append(inputs[i-60:i, 0])\n",
    "X_test = np.array(X_test)\n",
    "X_test = np.reshape(X_test, (X_test.shape[0], X_test.shape[1], 1))\n",
    "predicted_stock_price = regressor.predict(X_test)\n",
    "predicted_stock_price = sc.inverse_transform(predicted_stock_price)"
   ]
  },
  {
   "cell_type": "code",
   "execution_count": 24,
   "metadata": {},
   "outputs": [
    {
     "data": {
      "image/png": "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\n",
      "text/plain": [
       "<Figure size 432x288 with 1 Axes>"
      ]
     },
     "metadata": {
      "needs_background": "light"
     },
     "output_type": "display_data"
    }
   ],
   "source": [
    "# Visualising the results\n",
    "plt.plot(real_stock_price, color = 'red', label = 'Real Google Stock Price')\n",
    "plt.plot(predicted_stock_price, color = 'blue', label = 'Predicted Google Stock Price')\n",
    "plt.title('Google Stock Price Prediction')\n",
    "plt.xlabel('Time')\n",
    "plt.ylabel('Google Stock Price')\n",
    "plt.legend()\n",
    "plt.show()"
   ]
  }
 ],
 "metadata": {
  "kernelspec": {
   "display_name": "Python 3",
   "language": "python",
   "name": "python3"
  },
  "language_info": {
   "codemirror_mode": {
    "name": "ipython",
    "version": 3
   },
   "file_extension": ".py",
   "mimetype": "text/x-python",
   "name": "python",
   "nbconvert_exporter": "python",
   "pygments_lexer": "ipython3",
   "version": "3.6.8"
  }
 },
 "nbformat": 4,
 "nbformat_minor": 2
}
